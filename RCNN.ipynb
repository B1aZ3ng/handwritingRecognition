{
 "cells": [
  {
   "cell_type": "code",
   "execution_count": 53,
   "id": "60277806",
   "metadata": {},
   "outputs": [],
   "source": [
    "#IMPORTS\n",
    "import tensorflow as tf\n",
    "import os\n",
    "import numpy as np"
   ]
  },
  {
   "cell_type": "code",
   "execution_count": 54,
   "id": "9ef01c7e",
   "metadata": {},
   "outputs": [],
   "source": [
    "dataPath = \"../trainingData/\""
   ]
  },
  {
   "cell_type": "code",
   "execution_count": 55,
   "id": "088a22f3",
   "metadata": {},
   "outputs": [
    {
     "name": "stdout",
     "output_type": "stream",
     "text": [
      "[['../trainingData/augmentedWords/IAM/h02/h02-004/h02-004-05-06/image_0_129.jpeg'\n",
      "  'We']\n",
      " ['../trainingData/augmentedWords/IAM/g06/g06-050i/g06-050i-04-01/image_0_4085.jpeg'\n",
      "  'man']\n",
      " ['../trainingData/augmentedWords/IAM/a01/a01-000x/a01-000x-04-06/image_0_9413.jpeg'\n",
      "  'by']\n",
      " ['../trainingData/augmentedWords/IAM/h01/h01-030/h01-030-08-04/image_0_3712.jpeg'\n",
      "  'reducing']\n",
      " ['../trainingData/augmentedWords/IAM/h07/h07-007/h07-007-07-08/image_0_9019.jpeg'\n",
      "  'these']\n",
      " ['../trainingData/augmentedWords/IAM/a05/a05-058/a05-058-01-10/image_0_9940.jpeg'\n",
      "  'be']\n",
      " ['../trainingData/augmentedWords/IAM/e02/e02-025/e02-025-03-01/image_0_9108.jpeg'\n",
      "  'of']\n",
      " ['../trainingData/augmentedWords/IAM/g07/g07-038/g07-038-07-06/image_0_762.jpeg'\n",
      "  'to']\n",
      " ['../trainingData/augmentedWords/IAM/m04/m04-012/m04-012-05-00/image_0_281.jpeg'\n",
      "  'Dai']\n",
      " ['../trainingData/augmentedWords/IAM/g06/g06-037o/g06-037o-02-09/image_0_9003.jpeg'\n",
      "  'but']]\n",
      "CPU times: user 1.89 s, sys: 951 ms, total: 2.84 s\n",
      "Wall time: 2.84 s\n"
     ]
    }
   ],
   "source": [
    "%%time\n",
    "import json\n",
    "#imports all the file paths into a \n",
    "\n",
    "text = open(dataPath + \"ascii/words.txt\",\"r\").read().splitlines()\n",
    "text = text[18:] #first 18 lines is metadata\n",
    "images = []\n",
    "for data in text:\n",
    "    parts = data.split(\" \")\n",
    "    word = parts[-1]\n",
    "    tmp = parts[0].split(\"-\")\n",
    "    path = dataPath + \"augmentedWords/IAM/\" + tmp[0]+\"/\"+tmp[0]+\"-\"+tmp[1]+\"/\"+parts[0]+\"/\"\n",
    "    try:\n",
    "        inDir = os.listdir(path)\n",
    "    except:\n",
    "        inDir=[]\n",
    "    for f in inDir:\n",
    "        images.append([os.path.join(path+f), word]) #last 2 are width and height ord() to convert to ascii\n",
    "\n",
    "images = np.array(images)\n",
    "np.random.shuffle(images)\n",
    "np.random.shuffle(images)\n",
    "\n",
    "\n",
    "\n",
    "print (images[0:10])\n",
    "\n",
    "\n",
    "#around 1 min"
   ]
  },
  {
   "cell_type": "code",
   "execution_count": 86,
   "id": "9632f2bc",
   "metadata": {},
   "outputs": [
    {
     "name": "stderr",
     "output_type": "stream",
     "text": [
      "0it [00:09, ?it/s]\n",
      "102it [00:13,  7.70it/s]"
     ]
    },
    {
     "ename": "KeyboardInterrupt",
     "evalue": "",
     "output_type": "error",
     "traceback": [
      "\u001b[31m---------------------------------------------------------------------------\u001b[39m",
      "\u001b[31mKeyboardInterrupt\u001b[39m                         Traceback (most recent call last)",
      "\u001b[36mCell\u001b[39m\u001b[36m \u001b[39m\u001b[32mIn[86]\u001b[39m\u001b[32m, line 10\u001b[39m\n\u001b[32m      8\u001b[39m     i+=\u001b[32m1\u001b[39m\n\u001b[32m      9\u001b[39m \u001b[38;5;28;01melse\u001b[39;00m:\n\u001b[32m---> \u001b[39m\u001b[32m10\u001b[39m     \u001b[43mnp\u001b[49m\u001b[43m.\u001b[49m\u001b[43mdelete\u001b[49m\u001b[43m(\u001b[49m\u001b[43mimages\u001b[49m\u001b[43m,\u001b[49m\u001b[43mi\u001b[49m\u001b[43m)\u001b[49m\n",
      "\u001b[36mFile \u001b[39m\u001b[32m~/.venv/lib/python3.12/site-packages/numpy/lib/_function_base_impl.py:5424\u001b[39m, in \u001b[36mdelete\u001b[39m\u001b[34m(arr, obj, axis)\u001b[39m\n\u001b[32m   5421\u001b[39m     slobj[axis] = keep\n\u001b[32m   5422\u001b[39m     new = arr[\u001b[38;5;28mtuple\u001b[39m(slobj)]\n\u001b[32m-> \u001b[39m\u001b[32m5424\u001b[39m \u001b[38;5;28;01mreturn\u001b[39;00m \u001b[43mconv\u001b[49m\u001b[43m.\u001b[49m\u001b[43mwrap\u001b[49m\u001b[43m(\u001b[49m\u001b[43mnew\u001b[49m\u001b[43m,\u001b[49m\u001b[43m \u001b[49m\u001b[43mto_scalar\u001b[49m\u001b[43m=\u001b[49m\u001b[38;5;28;43;01mFalse\u001b[39;49;00m\u001b[43m)\u001b[49m\n",
      "\u001b[31mKeyboardInterrupt\u001b[39m: "
     ]
    }
   ],
   "source": [
    "from PIL import Image\n",
    "from tqdm import tqdm\n",
    "i = 0\n",
    "pBar = tqdm(len(images))\n",
    "while i < len(images):\n",
    "    pBar.update()\n",
    "    if os.path.exists(images[i][1]): \n",
    "        i+=1\n",
    "    else:\n",
    "        np.delete(images,i)"
   ]
  },
  {
   "cell_type": "code",
   "execution_count": 56,
   "id": "f174fc20",
   "metadata": {},
   "outputs": [],
   "source": [
    "num_classes = 78\n",
    "\n",
    "characters = list(\"abcdefghijklmnopqrstuvwxyzABCDEFGHIJKLMNOPQRSTUVWXYZ0123456789\")\n",
    "char_to_num = tf.keras.layers.StringLookup(vocabulary=characters, oov_token=\"[UNK]\", mask_token=None)\n",
    "num_to_char = tf.keras.layers.StringLookup(vocabulary=characters, invert=True, mask_token=None)\n",
    "vocab_size = len(char_to_num.get_vocabulary()) + 1  # +1 for CTC blank"
   ]
  },
  {
   "cell_type": "code",
   "execution_count": 57,
   "id": "08de748a",
   "metadata": {},
   "outputs": [
    {
     "data": {
      "text/html": [
       "<pre style=\"white-space:pre;overflow-x:auto;line-height:normal;font-family:Menlo,'DejaVu Sans Mono',consolas,'Courier New',monospace\"><span style=\"font-weight: bold\">Model: \"functional_82\"</span>\n",
       "</pre>\n"
      ],
      "text/plain": [
       "\u001b[1mModel: \"functional_82\"\u001b[0m\n"
      ]
     },
     "metadata": {},
     "output_type": "display_data"
    },
    {
     "data": {
      "text/html": [
       "<pre style=\"white-space:pre;overflow-x:auto;line-height:normal;font-family:Menlo,'DejaVu Sans Mono',consolas,'Courier New',monospace\">┏━━━━━━━━━━━━━━━━━━━━━━━━━━━━━━━━━┳━━━━━━━━━━━━━━━━━━━━━━━━┳━━━━━━━━━━━━━━━┓\n",
       "┃<span style=\"font-weight: bold\"> Layer (type)                    </span>┃<span style=\"font-weight: bold\"> Output Shape           </span>┃<span style=\"font-weight: bold\">       Param # </span>┃\n",
       "┡━━━━━━━━━━━━━━━━━━━━━━━━━━━━━━━━━╇━━━━━━━━━━━━━━━━━━━━━━━━╇━━━━━━━━━━━━━━━┩\n",
       "│ input_1 (<span style=\"color: #0087ff; text-decoration-color: #0087ff\">InputLayer</span>)            │ (<span style=\"color: #00d7ff; text-decoration-color: #00d7ff\">None</span>, <span style=\"color: #00af00; text-decoration-color: #00af00\">224</span>, <span style=\"color: #00af00; text-decoration-color: #00af00\">224</span>, <span style=\"color: #00af00; text-decoration-color: #00af00\">3</span>)    │             <span style=\"color: #00af00; text-decoration-color: #00af00\">0</span> │\n",
       "├─────────────────────────────────┼────────────────────────┼───────────────┤\n",
       "│ vgg16 (<span style=\"color: #0087ff; text-decoration-color: #0087ff\">Functional</span>)              │ (<span style=\"color: #00d7ff; text-decoration-color: #00d7ff\">None</span>, <span style=\"color: #00af00; text-decoration-color: #00af00\">7</span>, <span style=\"color: #00af00; text-decoration-color: #00af00\">7</span>, <span style=\"color: #00af00; text-decoration-color: #00af00\">512</span>)      │    <span style=\"color: #00af00; text-decoration-color: #00af00\">14,714,688</span> │\n",
       "├─────────────────────────────────┼────────────────────────┼───────────────┤\n",
       "│ reshape_9 (<span style=\"color: #0087ff; text-decoration-color: #0087ff\">Reshape</span>)             │ (<span style=\"color: #00d7ff; text-decoration-color: #00d7ff\">None</span>, <span style=\"color: #00af00; text-decoration-color: #00af00\">49</span>, <span style=\"color: #00af00; text-decoration-color: #00af00\">512</span>)        │             <span style=\"color: #00af00; text-decoration-color: #00af00\">0</span> │\n",
       "├─────────────────────────────────┼────────────────────────┼───────────────┤\n",
       "│ bidirectional_9 (<span style=\"color: #0087ff; text-decoration-color: #0087ff\">Bidirectional</span>) │ (<span style=\"color: #00d7ff; text-decoration-color: #00d7ff\">None</span>, <span style=\"color: #00af00; text-decoration-color: #00af00\">49</span>, <span style=\"color: #00af00; text-decoration-color: #00af00\">256</span>)        │       <span style=\"color: #00af00; text-decoration-color: #00af00\">656,384</span> │\n",
       "├─────────────────────────────────┼────────────────────────┼───────────────┤\n",
       "│ dropout_9 (<span style=\"color: #0087ff; text-decoration-color: #0087ff\">Dropout</span>)             │ (<span style=\"color: #00d7ff; text-decoration-color: #00d7ff\">None</span>, <span style=\"color: #00af00; text-decoration-color: #00af00\">49</span>, <span style=\"color: #00af00; text-decoration-color: #00af00\">256</span>)        │             <span style=\"color: #00af00; text-decoration-color: #00af00\">0</span> │\n",
       "├─────────────────────────────────┼────────────────────────┼───────────────┤\n",
       "│ batch_normalization_9           │ (<span style=\"color: #00d7ff; text-decoration-color: #00d7ff\">None</span>, <span style=\"color: #00af00; text-decoration-color: #00af00\">49</span>, <span style=\"color: #00af00; text-decoration-color: #00af00\">256</span>)        │         <span style=\"color: #00af00; text-decoration-color: #00af00\">1,024</span> │\n",
       "│ (<span style=\"color: #0087ff; text-decoration-color: #0087ff\">BatchNormalization</span>)            │                        │               │\n",
       "├─────────────────────────────────┼────────────────────────┼───────────────┤\n",
       "│ dense_5 (<span style=\"color: #0087ff; text-decoration-color: #0087ff\">Dense</span>)                 │ (<span style=\"color: #00d7ff; text-decoration-color: #00d7ff\">None</span>, <span style=\"color: #00af00; text-decoration-color: #00af00\">49</span>, <span style=\"color: #00af00; text-decoration-color: #00af00\">64</span>)         │        <span style=\"color: #00af00; text-decoration-color: #00af00\">16,448</span> │\n",
       "└─────────────────────────────────┴────────────────────────┴───────────────┘\n",
       "</pre>\n"
      ],
      "text/plain": [
       "┏━━━━━━━━━━━━━━━━━━━━━━━━━━━━━━━━━┳━━━━━━━━━━━━━━━━━━━━━━━━┳━━━━━━━━━━━━━━━┓\n",
       "┃\u001b[1m \u001b[0m\u001b[1mLayer (type)                   \u001b[0m\u001b[1m \u001b[0m┃\u001b[1m \u001b[0m\u001b[1mOutput Shape          \u001b[0m\u001b[1m \u001b[0m┃\u001b[1m \u001b[0m\u001b[1m      Param #\u001b[0m\u001b[1m \u001b[0m┃\n",
       "┡━━━━━━━━━━━━━━━━━━━━━━━━━━━━━━━━━╇━━━━━━━━━━━━━━━━━━━━━━━━╇━━━━━━━━━━━━━━━┩\n",
       "│ input_1 (\u001b[38;5;33mInputLayer\u001b[0m)            │ (\u001b[38;5;45mNone\u001b[0m, \u001b[38;5;34m224\u001b[0m, \u001b[38;5;34m224\u001b[0m, \u001b[38;5;34m3\u001b[0m)    │             \u001b[38;5;34m0\u001b[0m │\n",
       "├─────────────────────────────────┼────────────────────────┼───────────────┤\n",
       "│ vgg16 (\u001b[38;5;33mFunctional\u001b[0m)              │ (\u001b[38;5;45mNone\u001b[0m, \u001b[38;5;34m7\u001b[0m, \u001b[38;5;34m7\u001b[0m, \u001b[38;5;34m512\u001b[0m)      │    \u001b[38;5;34m14,714,688\u001b[0m │\n",
       "├─────────────────────────────────┼────────────────────────┼───────────────┤\n",
       "│ reshape_9 (\u001b[38;5;33mReshape\u001b[0m)             │ (\u001b[38;5;45mNone\u001b[0m, \u001b[38;5;34m49\u001b[0m, \u001b[38;5;34m512\u001b[0m)        │             \u001b[38;5;34m0\u001b[0m │\n",
       "├─────────────────────────────────┼────────────────────────┼───────────────┤\n",
       "│ bidirectional_9 (\u001b[38;5;33mBidirectional\u001b[0m) │ (\u001b[38;5;45mNone\u001b[0m, \u001b[38;5;34m49\u001b[0m, \u001b[38;5;34m256\u001b[0m)        │       \u001b[38;5;34m656,384\u001b[0m │\n",
       "├─────────────────────────────────┼────────────────────────┼───────────────┤\n",
       "│ dropout_9 (\u001b[38;5;33mDropout\u001b[0m)             │ (\u001b[38;5;45mNone\u001b[0m, \u001b[38;5;34m49\u001b[0m, \u001b[38;5;34m256\u001b[0m)        │             \u001b[38;5;34m0\u001b[0m │\n",
       "├─────────────────────────────────┼────────────────────────┼───────────────┤\n",
       "│ batch_normalization_9           │ (\u001b[38;5;45mNone\u001b[0m, \u001b[38;5;34m49\u001b[0m, \u001b[38;5;34m256\u001b[0m)        │         \u001b[38;5;34m1,024\u001b[0m │\n",
       "│ (\u001b[38;5;33mBatchNormalization\u001b[0m)            │                        │               │\n",
       "├─────────────────────────────────┼────────────────────────┼───────────────┤\n",
       "│ dense_5 (\u001b[38;5;33mDense\u001b[0m)                 │ (\u001b[38;5;45mNone\u001b[0m, \u001b[38;5;34m49\u001b[0m, \u001b[38;5;34m64\u001b[0m)         │        \u001b[38;5;34m16,448\u001b[0m │\n",
       "└─────────────────────────────────┴────────────────────────┴───────────────┘\n"
      ]
     },
     "metadata": {},
     "output_type": "display_data"
    },
    {
     "data": {
      "text/html": [
       "<pre style=\"white-space:pre;overflow-x:auto;line-height:normal;font-family:Menlo,'DejaVu Sans Mono',consolas,'Courier New',monospace\"><span style=\"font-weight: bold\"> Total params: </span><span style=\"color: #00af00; text-decoration-color: #00af00\">15,388,544</span> (58.70 MB)\n",
       "</pre>\n"
      ],
      "text/plain": [
       "\u001b[1m Total params: \u001b[0m\u001b[38;5;34m15,388,544\u001b[0m (58.70 MB)\n"
      ]
     },
     "metadata": {},
     "output_type": "display_data"
    },
    {
     "data": {
      "text/html": [
       "<pre style=\"white-space:pre;overflow-x:auto;line-height:normal;font-family:Menlo,'DejaVu Sans Mono',consolas,'Courier New',monospace\"><span style=\"font-weight: bold\"> Trainable params: </span><span style=\"color: #00af00; text-decoration-color: #00af00\">15,388,032</span> (58.70 MB)\n",
       "</pre>\n"
      ],
      "text/plain": [
       "\u001b[1m Trainable params: \u001b[0m\u001b[38;5;34m15,388,032\u001b[0m (58.70 MB)\n"
      ]
     },
     "metadata": {},
     "output_type": "display_data"
    },
    {
     "data": {
      "text/html": [
       "<pre style=\"white-space:pre;overflow-x:auto;line-height:normal;font-family:Menlo,'DejaVu Sans Mono',consolas,'Courier New',monospace\"><span style=\"font-weight: bold\"> Non-trainable params: </span><span style=\"color: #00af00; text-decoration-color: #00af00\">512</span> (2.00 KB)\n",
       "</pre>\n"
      ],
      "text/plain": [
       "\u001b[1m Non-trainable params: \u001b[0m\u001b[38;5;34m512\u001b[0m (2.00 KB)\n"
      ]
     },
     "metadata": {},
     "output_type": "display_data"
    }
   ],
   "source": [
    "import tensorflow as tf\n",
    "from tensorflow.keras import Model, Input\n",
    "from tensorflow.keras.applications import VGG16\n",
    "from tensorflow.keras.layers import Reshape, Bidirectional, LSTM, Dense, Dropout, BatchNormalization\n",
    "from tensorflow.keras.layers import GlobalAveragePooling2D\n",
    "\n",
    "\n",
    "# Load original base model\n",
    "base_model = tf.keras.models.load_model(\"vgg-16-1.keras\")\n",
    "base_model.load_weights(\"savedModels/bestCheckpoint-1.weights.h5\")\n",
    "\n",
    "# Manually reconstruct using the same input\n",
    "input_tensor = Input(shape=(224, 224, 3), name=\"input_1\")\n",
    "x = input_tensor\n",
    "\n",
    "# Copy all layers except last 4\n",
    "for layer in base_model.layers[:-4]:\n",
    "    x = layer(x)\n",
    "\n",
    "# x now has shape (None, 7, 7, 512)\n",
    "x = Reshape((49, 512))(x)  # (batch, time_steps, features)\n",
    "\n",
    "# RNN Layers\n",
    "x = Bidirectional(LSTM(128, return_sequences=True))(x)\n",
    "x = Dropout(0.2)(x)\n",
    "x = BatchNormalization()(x)\n",
    "\n",
    "# Output layer for CTC\n",
    "output = Dense(vocab_size, activation=\"softmax\")(x)\n",
    "\n",
    "# Final model\n",
    "model = Model(inputs=input_tensor, outputs=output)\n",
    "model.summary()"
   ]
  },
  {
   "cell_type": "code",
   "execution_count": 58,
   "id": "99b74bf4",
   "metadata": {},
   "outputs": [],
   "source": [
    "def ctc_loss(y_true, y_pred):\n",
    "    batch_len = tf.cast(tf.shape(y_true)[0], dtype=\"int64\")\n",
    "    input_length = tf.cast(tf.shape(y_pred)[1], dtype=\"int64\")\n",
    "    label_length = tf.cast(tf.shape(y_true)[1], dtype=\"int64\")\n",
    "    input_len = tf.ones(shape=(batch_len, 1)) * input_length\n",
    "    label_len = tf.ones(shape=(batch_len, 1)) * label_length\n",
    "    loss = tf.keras.backend.ctc_batch_cost(y_true, y_pred, input_len, label_len)\n",
    "    return loss"
   ]
  },
  {
   "cell_type": "code",
   "execution_count": 59,
   "id": "5516b4ac",
   "metadata": {},
   "outputs": [],
   "source": [
    "from tensorflow.keras import layers\n",
    "\n",
    "# Define remaining model inputs\n",
    "labels = Input(shape=(None,), dtype=\"int32\", name=\"labels\")\n",
    "input_lengths = Input(shape=(1,), dtype=\"int32\", name=\"input_lengths\")\n",
    "label_lengths = Input(shape=(1,), dtype=\"int32\", name=\"label_lengths\")"
   ]
  },
  {
   "cell_type": "code",
   "execution_count": null,
   "id": "c94b4186",
   "metadata": {},
   "outputs": [],
   "source": [
    "# --- CTC LOSS LAYER ---\n",
    "     y_pred, labels, input_len, label_len = args\n",
    "    return tf.keras.backend.ctc_batch_cost(labels, y_pred, input_len, label_len)\n",
    "\n",
    "ctc_loss_output = layers.Lambda(ctc_loss_fn, name=\"ctc_loss\")([x, labels, input_lengths, label_lengths])"
   ]
  },
  {
   "cell_type": "code",
   "execution_count": 61,
   "id": "4f7e287a",
   "metadata": {},
   "outputs": [],
   "source": [
    "training_model = Model(\n",
    "    inputs=[input_tensor, labels, input_lengths, label_lengths],\n",
    "    outputs=ctc_loss_output,\n",
    "    name=\"ctc_model_with_loss\"\n",
    ")"
   ]
  },
  {
   "cell_type": "code",
   "execution_count": null,
   "id": "d5edceb7",
   "metadata": {},
   "outputs": [],
   "source": []
  },
  {
   "cell_type": "code",
   "execution_count": 66,
   "id": "0551fa0a",
   "metadata": {},
   "outputs": [],
   "source": [
    "training_model.compile(optimizer=tf.keras.optimizers.Adam(),loss={\"ctc_loss\": lambda y_true, y_pred: y_pred})\n",
    "\n"
   ]
  },
  {
   "cell_type": "code",
   "execution_count": 73,
   "id": "a2225dd2",
   "metadata": {},
   "outputs": [],
   "source": [
    "def load_image_and_label(path, label):\n",
    "    # Read and decode image\n",
    "    image = tf.io.read_file(path)\n",
    "    image = tf.io.decode_jpeg(image, channels=3)\n",
    "    image = tf.image.resize(image, [224, 224])\n",
    "    image = tf.cast(image, tf.float32) / 255.0  # Normalize to [0,1]\n",
    "\n",
    "    # Convert label to sequence of character indices\n",
    "    label = char_to_num(tf.strings.unicode_split(label, input_encoding=\"UTF-8\"))\n",
    "\n",
    "    input_len = tf.constant([49], dtype=tf.int32)  # Fixed output time steps after reshape\n",
    "    label_len = tf.shape(label)[0:1]  # Shape (1,)\n",
    "\n",
    "    return {\n",
    "        \"input_1\": image,\n",
    "        \"labels\": label,\n",
    "        \"input_lengths\": input_len,\n",
    "        \"label_lengths\": label_len\n",
    "    }, tf.constant(0)"
   ]
  },
  {
   "cell_type": "code",
   "execution_count": null,
   "id": "ed5cced8",
   "metadata": {},
   "outputs": [],
   "source": [
    "paths = images[:, 0]\n",
    "labels = images[:, 1]\n",
    "\n",
    "dataset = tf.data.Dataset.from_tensor_slices((paths, labels))\n",
    "dataset = dataset.map(load_image_and_label, num_parallel_calls=tf.data.AUTOTUNE)\n",
    "dataset = dataset.padded_batch( #chatgpt because i had errors\n",
    "    32,\n",
    "    padded_shapes=(\n",
    "        {\n",
    "            \"input_1\": [224, 224, 3],       # fixed size images\n",
    "            \"labels\": [None],               # variable length labels padded to max in batch\n",
    "            \"input_lengths\": [1],           # scalar inside a 1-element vector\n",
    "            \"label_lengths\": [1],           # scalar inside a 1-element vector\n",
    "        },\n",
    "        []  # shape of label=0 constant (dummy)\n",
    "    )\n",
    ").prefetch(tf.data.AUTOTUNE)"
   ]
  },
  {
   "cell_type": "code",
   "execution_count": null,
   "id": "e53c264b",
   "metadata": {},
   "outputs": [],
   "source": []
  },
  {
   "cell_type": "code",
   "execution_count": 79,
   "id": "a34591d5",
   "metadata": {},
   "outputs": [
    {
     "name": "stdout",
     "output_type": "stream",
     "text": [
      "Epoch 1/20\n",
      "\u001b[1m 7734/10814\u001b[0m \u001b[32m━━━━━━━━━━━━━━\u001b[0m\u001b[37m━━━━━━\u001b[0m \u001b[1m13:19\u001b[0m 260ms/step - loss: nan"
     ]
    },
    {
     "name": "stderr",
     "output_type": "stream",
     "text": [
      "2025-06-12 01:42:43.633715: W tensorflow/core/framework/op_kernel.cc:1857] OP_REQUIRES failed at ctc_loss_op.cc:216 : INVALID_ARGUMENT: Not enough time for target transition sequence (required: 53, available: 49)14You can turn this error into a warning by using the flag ignore_longer_outputs_than_inputs\n",
      "2025-06-12 01:42:43.633757: I tensorflow/core/framework/local_rendezvous.cc:407] Local rendezvous is aborting with status: INVALID_ARGUMENT: Not enough time for target transition sequence (required: 53, available: 49)14You can turn this error into a warning by using the flag ignore_longer_outputs_than_inputs\n",
      "\t [[{{function_node __inference_one_step_on_data_20658}}{{node ctc_model_with_loss_1/ctc_loss_1/CTCLoss}}]]\n",
      "\t [[StatefulPartitionedCall/ctc_model_with_loss_1/ctc_loss_1/CTCLoss/_78]]\n",
      "2025-06-12 01:42:43.633768: I tensorflow/core/framework/local_rendezvous.cc:426] Local rendezvous recv item cancelled. Key hash: 1243263350888270507\n",
      "2025-06-12 01:42:43.633776: I tensorflow/core/framework/local_rendezvous.cc:426] Local rendezvous recv item cancelled. Key hash: 9033778517054333246\n",
      "2025-06-12 01:42:43.633879: I tensorflow/core/framework/local_rendezvous.cc:426] Local rendezvous recv item cancelled. Key hash: 3727456089359076154\n"
     ]
    },
    {
     "ename": "InvalidArgumentError",
     "evalue": "Graph execution error:\n\nDetected at node ctc_model_with_loss_1/ctc_loss_1/CTCLoss defined at (most recent call last):\n  File \"/usr/lib/python3.12/runpy.py\", line 198, in _run_module_as_main\n\n  File \"/usr/lib/python3.12/runpy.py\", line 88, in _run_code\n\n  File \"/home/b1az3ng/.venv/lib/python3.12/site-packages/ipykernel_launcher.py\", line 18, in <module>\n\n  File \"/home/b1az3ng/.venv/lib/python3.12/site-packages/traitlets/config/application.py\", line 1075, in launch_instance\n\n  File \"/home/b1az3ng/.venv/lib/python3.12/site-packages/ipykernel/kernelapp.py\", line 739, in start\n\n  File \"/home/b1az3ng/.venv/lib/python3.12/site-packages/tornado/platform/asyncio.py\", line 211, in start\n\n  File \"/usr/lib/python3.12/asyncio/base_events.py\", line 641, in run_forever\n\n  File \"/usr/lib/python3.12/asyncio/base_events.py\", line 1987, in _run_once\n\n  File \"/usr/lib/python3.12/asyncio/events.py\", line 88, in _run\n\n  File \"/home/b1az3ng/.venv/lib/python3.12/site-packages/ipykernel/kernelbase.py\", line 545, in dispatch_queue\n\n  File \"/home/b1az3ng/.venv/lib/python3.12/site-packages/ipykernel/kernelbase.py\", line 534, in process_one\n\n  File \"/home/b1az3ng/.venv/lib/python3.12/site-packages/ipykernel/kernelbase.py\", line 437, in dispatch_shell\n\n  File \"/home/b1az3ng/.venv/lib/python3.12/site-packages/ipykernel/ipkernel.py\", line 362, in execute_request\n\n  File \"/home/b1az3ng/.venv/lib/python3.12/site-packages/ipykernel/kernelbase.py\", line 778, in execute_request\n\n  File \"/home/b1az3ng/.venv/lib/python3.12/site-packages/ipykernel/ipkernel.py\", line 449, in do_execute\n\n  File \"/home/b1az3ng/.venv/lib/python3.12/site-packages/ipykernel/zmqshell.py\", line 549, in run_cell\n\n  File \"/home/b1az3ng/.venv/lib/python3.12/site-packages/IPython/core/interactiveshell.py\", line 3098, in run_cell\n\n  File \"/home/b1az3ng/.venv/lib/python3.12/site-packages/IPython/core/interactiveshell.py\", line 3153, in _run_cell\n\n  File \"/home/b1az3ng/.venv/lib/python3.12/site-packages/IPython/core/async_helpers.py\", line 128, in _pseudo_sync_runner\n\n  File \"/home/b1az3ng/.venv/lib/python3.12/site-packages/IPython/core/interactiveshell.py\", line 3365, in run_cell_async\n\n  File \"/home/b1az3ng/.venv/lib/python3.12/site-packages/IPython/core/interactiveshell.py\", line 3610, in run_ast_nodes\n\n  File \"/home/b1az3ng/.venv/lib/python3.12/site-packages/IPython/core/interactiveshell.py\", line 3670, in run_code\n\n  File \"/tmp/ipykernel_22518/1715287723.py\", line 1, in <module>\n\n  File \"/home/b1az3ng/.venv/lib/python3.12/site-packages/keras/src/utils/traceback_utils.py\", line 117, in error_handler\n\n  File \"/home/b1az3ng/.venv/lib/python3.12/site-packages/keras/src/backend/tensorflow/trainer.py\", line 377, in fit\n\n  File \"/home/b1az3ng/.venv/lib/python3.12/site-packages/keras/src/backend/tensorflow/trainer.py\", line 220, in function\n\n  File \"/home/b1az3ng/.venv/lib/python3.12/site-packages/keras/src/backend/tensorflow/trainer.py\", line 133, in multi_step_on_iterator\n\n  File \"/home/b1az3ng/.venv/lib/python3.12/site-packages/keras/src/backend/tensorflow/trainer.py\", line 114, in one_step_on_data\n\n  File \"/home/b1az3ng/.venv/lib/python3.12/site-packages/keras/src/backend/tensorflow/trainer.py\", line 58, in train_step\n\n  File \"/home/b1az3ng/.venv/lib/python3.12/site-packages/keras/src/utils/traceback_utils.py\", line 117, in error_handler\n\n  File \"/home/b1az3ng/.venv/lib/python3.12/site-packages/keras/src/layers/layer.py\", line 936, in __call__\n\n  File \"/home/b1az3ng/.venv/lib/python3.12/site-packages/keras/src/utils/traceback_utils.py\", line 117, in error_handler\n\n  File \"/home/b1az3ng/.venv/lib/python3.12/site-packages/keras/src/ops/operation.py\", line 58, in __call__\n\n  File \"/home/b1az3ng/.venv/lib/python3.12/site-packages/keras/src/utils/traceback_utils.py\", line 156, in error_handler\n\n  File \"/home/b1az3ng/.venv/lib/python3.12/site-packages/keras/src/models/functional.py\", line 183, in call\n\n  File \"/home/b1az3ng/.venv/lib/python3.12/site-packages/keras/src/ops/function.py\", line 177, in _run_through_graph\n\n  File \"/home/b1az3ng/.venv/lib/python3.12/site-packages/keras/src/models/functional.py\", line 648, in call\n\n  File \"/home/b1az3ng/.venv/lib/python3.12/site-packages/keras/src/utils/traceback_utils.py\", line 117, in error_handler\n\n  File \"/home/b1az3ng/.venv/lib/python3.12/site-packages/keras/src/layers/layer.py\", line 936, in __call__\n\n  File \"/home/b1az3ng/.venv/lib/python3.12/site-packages/keras/src/utils/traceback_utils.py\", line 117, in error_handler\n\n  File \"/home/b1az3ng/.venv/lib/python3.12/site-packages/keras/src/ops/operation.py\", line 58, in __call__\n\n  File \"/home/b1az3ng/.venv/lib/python3.12/site-packages/keras/src/utils/traceback_utils.py\", line 156, in error_handler\n\n  File \"/home/b1az3ng/.venv/lib/python3.12/site-packages/keras/src/layers/core/lambda_layer.py\", line 120, in call\n\n  File \"/tmp/ipykernel_22518/2900220204.py\", line 4, in ctc_loss_fn\n\n  File \"/home/b1az3ng/.venv/lib/python3.12/site-packages/keras/src/legacy/backend.py\", line 666, in ctc_batch_cost\n\nDetected at node ctc_model_with_loss_1/ctc_loss_1/CTCLoss defined at (most recent call last):\n  File \"/usr/lib/python3.12/runpy.py\", line 198, in _run_module_as_main\n\n  File \"/usr/lib/python3.12/runpy.py\", line 88, in _run_code\n\n  File \"/home/b1az3ng/.venv/lib/python3.12/site-packages/ipykernel_launcher.py\", line 18, in <module>\n\n  File \"/home/b1az3ng/.venv/lib/python3.12/site-packages/traitlets/config/application.py\", line 1075, in launch_instance\n\n  File \"/home/b1az3ng/.venv/lib/python3.12/site-packages/ipykernel/kernelapp.py\", line 739, in start\n\n  File \"/home/b1az3ng/.venv/lib/python3.12/site-packages/tornado/platform/asyncio.py\", line 211, in start\n\n  File \"/usr/lib/python3.12/asyncio/base_events.py\", line 641, in run_forever\n\n  File \"/usr/lib/python3.12/asyncio/base_events.py\", line 1987, in _run_once\n\n  File \"/usr/lib/python3.12/asyncio/events.py\", line 88, in _run\n\n  File \"/home/b1az3ng/.venv/lib/python3.12/site-packages/ipykernel/kernelbase.py\", line 545, in dispatch_queue\n\n  File \"/home/b1az3ng/.venv/lib/python3.12/site-packages/ipykernel/kernelbase.py\", line 534, in process_one\n\n  File \"/home/b1az3ng/.venv/lib/python3.12/site-packages/ipykernel/kernelbase.py\", line 437, in dispatch_shell\n\n  File \"/home/b1az3ng/.venv/lib/python3.12/site-packages/ipykernel/ipkernel.py\", line 362, in execute_request\n\n  File \"/home/b1az3ng/.venv/lib/python3.12/site-packages/ipykernel/kernelbase.py\", line 778, in execute_request\n\n  File \"/home/b1az3ng/.venv/lib/python3.12/site-packages/ipykernel/ipkernel.py\", line 449, in do_execute\n\n  File \"/home/b1az3ng/.venv/lib/python3.12/site-packages/ipykernel/zmqshell.py\", line 549, in run_cell\n\n  File \"/home/b1az3ng/.venv/lib/python3.12/site-packages/IPython/core/interactiveshell.py\", line 3098, in run_cell\n\n  File \"/home/b1az3ng/.venv/lib/python3.12/site-packages/IPython/core/interactiveshell.py\", line 3153, in _run_cell\n\n  File \"/home/b1az3ng/.venv/lib/python3.12/site-packages/IPython/core/async_helpers.py\", line 128, in _pseudo_sync_runner\n\n  File \"/home/b1az3ng/.venv/lib/python3.12/site-packages/IPython/core/interactiveshell.py\", line 3365, in run_cell_async\n\n  File \"/home/b1az3ng/.venv/lib/python3.12/site-packages/IPython/core/interactiveshell.py\", line 3610, in run_ast_nodes\n\n  File \"/home/b1az3ng/.venv/lib/python3.12/site-packages/IPython/core/interactiveshell.py\", line 3670, in run_code\n\n  File \"/tmp/ipykernel_22518/1715287723.py\", line 1, in <module>\n\n  File \"/home/b1az3ng/.venv/lib/python3.12/site-packages/keras/src/utils/traceback_utils.py\", line 117, in error_handler\n\n  File \"/home/b1az3ng/.venv/lib/python3.12/site-packages/keras/src/backend/tensorflow/trainer.py\", line 377, in fit\n\n  File \"/home/b1az3ng/.venv/lib/python3.12/site-packages/keras/src/backend/tensorflow/trainer.py\", line 220, in function\n\n  File \"/home/b1az3ng/.venv/lib/python3.12/site-packages/keras/src/backend/tensorflow/trainer.py\", line 133, in multi_step_on_iterator\n\n  File \"/home/b1az3ng/.venv/lib/python3.12/site-packages/keras/src/backend/tensorflow/trainer.py\", line 114, in one_step_on_data\n\n  File \"/home/b1az3ng/.venv/lib/python3.12/site-packages/keras/src/backend/tensorflow/trainer.py\", line 58, in train_step\n\n  File \"/home/b1az3ng/.venv/lib/python3.12/site-packages/keras/src/utils/traceback_utils.py\", line 117, in error_handler\n\n  File \"/home/b1az3ng/.venv/lib/python3.12/site-packages/keras/src/layers/layer.py\", line 936, in __call__\n\n  File \"/home/b1az3ng/.venv/lib/python3.12/site-packages/keras/src/utils/traceback_utils.py\", line 117, in error_handler\n\n  File \"/home/b1az3ng/.venv/lib/python3.12/site-packages/keras/src/ops/operation.py\", line 58, in __call__\n\n  File \"/home/b1az3ng/.venv/lib/python3.12/site-packages/keras/src/utils/traceback_utils.py\", line 156, in error_handler\n\n  File \"/home/b1az3ng/.venv/lib/python3.12/site-packages/keras/src/models/functional.py\", line 183, in call\n\n  File \"/home/b1az3ng/.venv/lib/python3.12/site-packages/keras/src/ops/function.py\", line 177, in _run_through_graph\n\n  File \"/home/b1az3ng/.venv/lib/python3.12/site-packages/keras/src/models/functional.py\", line 648, in call\n\n  File \"/home/b1az3ng/.venv/lib/python3.12/site-packages/keras/src/utils/traceback_utils.py\", line 117, in error_handler\n\n  File \"/home/b1az3ng/.venv/lib/python3.12/site-packages/keras/src/layers/layer.py\", line 936, in __call__\n\n  File \"/home/b1az3ng/.venv/lib/python3.12/site-packages/keras/src/utils/traceback_utils.py\", line 117, in error_handler\n\n  File \"/home/b1az3ng/.venv/lib/python3.12/site-packages/keras/src/ops/operation.py\", line 58, in __call__\n\n  File \"/home/b1az3ng/.venv/lib/python3.12/site-packages/keras/src/utils/traceback_utils.py\", line 156, in error_handler\n\n  File \"/home/b1az3ng/.venv/lib/python3.12/site-packages/keras/src/layers/core/lambda_layer.py\", line 120, in call\n\n  File \"/tmp/ipykernel_22518/2900220204.py\", line 4, in ctc_loss_fn\n\n  File \"/home/b1az3ng/.venv/lib/python3.12/site-packages/keras/src/legacy/backend.py\", line 666, in ctc_batch_cost\n\n2 root error(s) found.\n  (0) INVALID_ARGUMENT:  Not enough time for target transition sequence (required: 53, available: 49)14You can turn this error into a warning by using the flag ignore_longer_outputs_than_inputs\n\t [[{{node ctc_model_with_loss_1/ctc_loss_1/CTCLoss}}]]\n\t [[StatefulPartitionedCall/ctc_model_with_loss_1/ctc_loss_1/CTCLoss/_78]]\n  (1) INVALID_ARGUMENT:  Not enough time for target transition sequence (required: 53, available: 49)14You can turn this error into a warning by using the flag ignore_longer_outputs_than_inputs\n\t [[{{node ctc_model_with_loss_1/ctc_loss_1/CTCLoss}}]]\n0 successful operations.\n0 derived errors ignored. [Op:__inference_multi_step_on_iterator_20880]",
     "output_type": "error",
     "traceback": [
      "\u001b[31m---------------------------------------------------------------------------\u001b[39m",
      "\u001b[31mInvalidArgumentError\u001b[39m                      Traceback (most recent call last)",
      "\u001b[36mCell\u001b[39m\u001b[36m \u001b[39m\u001b[32mIn[79]\u001b[39m\u001b[32m, line 1\u001b[39m\n\u001b[32m----> \u001b[39m\u001b[32m1\u001b[39m \u001b[43mtraining_model\u001b[49m\u001b[43m.\u001b[49m\u001b[43mfit\u001b[49m\u001b[43m(\u001b[49m\u001b[43mdataset\u001b[49m\u001b[43m,\u001b[49m\u001b[43m \u001b[49m\u001b[43mepochs\u001b[49m\u001b[43m=\u001b[49m\u001b[32;43m20\u001b[39;49m\u001b[43m)\u001b[49m\n",
      "\u001b[36mFile \u001b[39m\u001b[32m~/.venv/lib/python3.12/site-packages/keras/src/utils/traceback_utils.py:122\u001b[39m, in \u001b[36mfilter_traceback.<locals>.error_handler\u001b[39m\u001b[34m(*args, **kwargs)\u001b[39m\n\u001b[32m    119\u001b[39m     filtered_tb = _process_traceback_frames(e.__traceback__)\n\u001b[32m    120\u001b[39m     \u001b[38;5;66;03m# To get the full stack trace, call:\u001b[39;00m\n\u001b[32m    121\u001b[39m     \u001b[38;5;66;03m# `keras.config.disable_traceback_filtering()`\u001b[39;00m\n\u001b[32m--> \u001b[39m\u001b[32m122\u001b[39m     \u001b[38;5;28;01mraise\u001b[39;00m e.with_traceback(filtered_tb) \u001b[38;5;28;01mfrom\u001b[39;00m\u001b[38;5;250m \u001b[39m\u001b[38;5;28;01mNone\u001b[39;00m\n\u001b[32m    123\u001b[39m \u001b[38;5;28;01mfinally\u001b[39;00m:\n\u001b[32m    124\u001b[39m     \u001b[38;5;28;01mdel\u001b[39;00m filtered_tb\n",
      "\u001b[36mFile \u001b[39m\u001b[32m~/.venv/lib/python3.12/site-packages/tensorflow/python/eager/execute.py:53\u001b[39m, in \u001b[36mquick_execute\u001b[39m\u001b[34m(op_name, num_outputs, inputs, attrs, ctx, name)\u001b[39m\n\u001b[32m     51\u001b[39m \u001b[38;5;28;01mtry\u001b[39;00m:\n\u001b[32m     52\u001b[39m   ctx.ensure_initialized()\n\u001b[32m---> \u001b[39m\u001b[32m53\u001b[39m   tensors = pywrap_tfe.TFE_Py_Execute(ctx._handle, device_name, op_name,\n\u001b[32m     54\u001b[39m                                       inputs, attrs, num_outputs)\n\u001b[32m     55\u001b[39m \u001b[38;5;28;01mexcept\u001b[39;00m core._NotOkStatusException \u001b[38;5;28;01mas\u001b[39;00m e:\n\u001b[32m     56\u001b[39m   \u001b[38;5;28;01mif\u001b[39;00m name \u001b[38;5;129;01mis\u001b[39;00m \u001b[38;5;129;01mnot\u001b[39;00m \u001b[38;5;28;01mNone\u001b[39;00m:\n",
      "\u001b[31mInvalidArgumentError\u001b[39m: Graph execution error:\n\nDetected at node ctc_model_with_loss_1/ctc_loss_1/CTCLoss defined at (most recent call last):\n  File \"/usr/lib/python3.12/runpy.py\", line 198, in _run_module_as_main\n\n  File \"/usr/lib/python3.12/runpy.py\", line 88, in _run_code\n\n  File \"/home/b1az3ng/.venv/lib/python3.12/site-packages/ipykernel_launcher.py\", line 18, in <module>\n\n  File \"/home/b1az3ng/.venv/lib/python3.12/site-packages/traitlets/config/application.py\", line 1075, in launch_instance\n\n  File \"/home/b1az3ng/.venv/lib/python3.12/site-packages/ipykernel/kernelapp.py\", line 739, in start\n\n  File \"/home/b1az3ng/.venv/lib/python3.12/site-packages/tornado/platform/asyncio.py\", line 211, in start\n\n  File \"/usr/lib/python3.12/asyncio/base_events.py\", line 641, in run_forever\n\n  File \"/usr/lib/python3.12/asyncio/base_events.py\", line 1987, in _run_once\n\n  File \"/usr/lib/python3.12/asyncio/events.py\", line 88, in _run\n\n  File \"/home/b1az3ng/.venv/lib/python3.12/site-packages/ipykernel/kernelbase.py\", line 545, in dispatch_queue\n\n  File \"/home/b1az3ng/.venv/lib/python3.12/site-packages/ipykernel/kernelbase.py\", line 534, in process_one\n\n  File \"/home/b1az3ng/.venv/lib/python3.12/site-packages/ipykernel/kernelbase.py\", line 437, in dispatch_shell\n\n  File \"/home/b1az3ng/.venv/lib/python3.12/site-packages/ipykernel/ipkernel.py\", line 362, in execute_request\n\n  File \"/home/b1az3ng/.venv/lib/python3.12/site-packages/ipykernel/kernelbase.py\", line 778, in execute_request\n\n  File \"/home/b1az3ng/.venv/lib/python3.12/site-packages/ipykernel/ipkernel.py\", line 449, in do_execute\n\n  File \"/home/b1az3ng/.venv/lib/python3.12/site-packages/ipykernel/zmqshell.py\", line 549, in run_cell\n\n  File \"/home/b1az3ng/.venv/lib/python3.12/site-packages/IPython/core/interactiveshell.py\", line 3098, in run_cell\n\n  File \"/home/b1az3ng/.venv/lib/python3.12/site-packages/IPython/core/interactiveshell.py\", line 3153, in _run_cell\n\n  File \"/home/b1az3ng/.venv/lib/python3.12/site-packages/IPython/core/async_helpers.py\", line 128, in _pseudo_sync_runner\n\n  File \"/home/b1az3ng/.venv/lib/python3.12/site-packages/IPython/core/interactiveshell.py\", line 3365, in run_cell_async\n\n  File \"/home/b1az3ng/.venv/lib/python3.12/site-packages/IPython/core/interactiveshell.py\", line 3610, in run_ast_nodes\n\n  File \"/home/b1az3ng/.venv/lib/python3.12/site-packages/IPython/core/interactiveshell.py\", line 3670, in run_code\n\n  File \"/tmp/ipykernel_22518/1715287723.py\", line 1, in <module>\n\n  File \"/home/b1az3ng/.venv/lib/python3.12/site-packages/keras/src/utils/traceback_utils.py\", line 117, in error_handler\n\n  File \"/home/b1az3ng/.venv/lib/python3.12/site-packages/keras/src/backend/tensorflow/trainer.py\", line 377, in fit\n\n  File \"/home/b1az3ng/.venv/lib/python3.12/site-packages/keras/src/backend/tensorflow/trainer.py\", line 220, in function\n\n  File \"/home/b1az3ng/.venv/lib/python3.12/site-packages/keras/src/backend/tensorflow/trainer.py\", line 133, in multi_step_on_iterator\n\n  File \"/home/b1az3ng/.venv/lib/python3.12/site-packages/keras/src/backend/tensorflow/trainer.py\", line 114, in one_step_on_data\n\n  File \"/home/b1az3ng/.venv/lib/python3.12/site-packages/keras/src/backend/tensorflow/trainer.py\", line 58, in train_step\n\n  File \"/home/b1az3ng/.venv/lib/python3.12/site-packages/keras/src/utils/traceback_utils.py\", line 117, in error_handler\n\n  File \"/home/b1az3ng/.venv/lib/python3.12/site-packages/keras/src/layers/layer.py\", line 936, in __call__\n\n  File \"/home/b1az3ng/.venv/lib/python3.12/site-packages/keras/src/utils/traceback_utils.py\", line 117, in error_handler\n\n  File \"/home/b1az3ng/.venv/lib/python3.12/site-packages/keras/src/ops/operation.py\", line 58, in __call__\n\n  File \"/home/b1az3ng/.venv/lib/python3.12/site-packages/keras/src/utils/traceback_utils.py\", line 156, in error_handler\n\n  File \"/home/b1az3ng/.venv/lib/python3.12/site-packages/keras/src/models/functional.py\", line 183, in call\n\n  File \"/home/b1az3ng/.venv/lib/python3.12/site-packages/keras/src/ops/function.py\", line 177, in _run_through_graph\n\n  File \"/home/b1az3ng/.venv/lib/python3.12/site-packages/keras/src/models/functional.py\", line 648, in call\n\n  File \"/home/b1az3ng/.venv/lib/python3.12/site-packages/keras/src/utils/traceback_utils.py\", line 117, in error_handler\n\n  File \"/home/b1az3ng/.venv/lib/python3.12/site-packages/keras/src/layers/layer.py\", line 936, in __call__\n\n  File \"/home/b1az3ng/.venv/lib/python3.12/site-packages/keras/src/utils/traceback_utils.py\", line 117, in error_handler\n\n  File \"/home/b1az3ng/.venv/lib/python3.12/site-packages/keras/src/ops/operation.py\", line 58, in __call__\n\n  File \"/home/b1az3ng/.venv/lib/python3.12/site-packages/keras/src/utils/traceback_utils.py\", line 156, in error_handler\n\n  File \"/home/b1az3ng/.venv/lib/python3.12/site-packages/keras/src/layers/core/lambda_layer.py\", line 120, in call\n\n  File \"/tmp/ipykernel_22518/2900220204.py\", line 4, in ctc_loss_fn\n\n  File \"/home/b1az3ng/.venv/lib/python3.12/site-packages/keras/src/legacy/backend.py\", line 666, in ctc_batch_cost\n\nDetected at node ctc_model_with_loss_1/ctc_loss_1/CTCLoss defined at (most recent call last):\n  File \"/usr/lib/python3.12/runpy.py\", line 198, in _run_module_as_main\n\n  File \"/usr/lib/python3.12/runpy.py\", line 88, in _run_code\n\n  File \"/home/b1az3ng/.venv/lib/python3.12/site-packages/ipykernel_launcher.py\", line 18, in <module>\n\n  File \"/home/b1az3ng/.venv/lib/python3.12/site-packages/traitlets/config/application.py\", line 1075, in launch_instance\n\n  File \"/home/b1az3ng/.venv/lib/python3.12/site-packages/ipykernel/kernelapp.py\", line 739, in start\n\n  File \"/home/b1az3ng/.venv/lib/python3.12/site-packages/tornado/platform/asyncio.py\", line 211, in start\n\n  File \"/usr/lib/python3.12/asyncio/base_events.py\", line 641, in run_forever\n\n  File \"/usr/lib/python3.12/asyncio/base_events.py\", line 1987, in _run_once\n\n  File \"/usr/lib/python3.12/asyncio/events.py\", line 88, in _run\n\n  File \"/home/b1az3ng/.venv/lib/python3.12/site-packages/ipykernel/kernelbase.py\", line 545, in dispatch_queue\n\n  File \"/home/b1az3ng/.venv/lib/python3.12/site-packages/ipykernel/kernelbase.py\", line 534, in process_one\n\n  File \"/home/b1az3ng/.venv/lib/python3.12/site-packages/ipykernel/kernelbase.py\", line 437, in dispatch_shell\n\n  File \"/home/b1az3ng/.venv/lib/python3.12/site-packages/ipykernel/ipkernel.py\", line 362, in execute_request\n\n  File \"/home/b1az3ng/.venv/lib/python3.12/site-packages/ipykernel/kernelbase.py\", line 778, in execute_request\n\n  File \"/home/b1az3ng/.venv/lib/python3.12/site-packages/ipykernel/ipkernel.py\", line 449, in do_execute\n\n  File \"/home/b1az3ng/.venv/lib/python3.12/site-packages/ipykernel/zmqshell.py\", line 549, in run_cell\n\n  File \"/home/b1az3ng/.venv/lib/python3.12/site-packages/IPython/core/interactiveshell.py\", line 3098, in run_cell\n\n  File \"/home/b1az3ng/.venv/lib/python3.12/site-packages/IPython/core/interactiveshell.py\", line 3153, in _run_cell\n\n  File \"/home/b1az3ng/.venv/lib/python3.12/site-packages/IPython/core/async_helpers.py\", line 128, in _pseudo_sync_runner\n\n  File \"/home/b1az3ng/.venv/lib/python3.12/site-packages/IPython/core/interactiveshell.py\", line 3365, in run_cell_async\n\n  File \"/home/b1az3ng/.venv/lib/python3.12/site-packages/IPython/core/interactiveshell.py\", line 3610, in run_ast_nodes\n\n  File \"/home/b1az3ng/.venv/lib/python3.12/site-packages/IPython/core/interactiveshell.py\", line 3670, in run_code\n\n  File \"/tmp/ipykernel_22518/1715287723.py\", line 1, in <module>\n\n  File \"/home/b1az3ng/.venv/lib/python3.12/site-packages/keras/src/utils/traceback_utils.py\", line 117, in error_handler\n\n  File \"/home/b1az3ng/.venv/lib/python3.12/site-packages/keras/src/backend/tensorflow/trainer.py\", line 377, in fit\n\n  File \"/home/b1az3ng/.venv/lib/python3.12/site-packages/keras/src/backend/tensorflow/trainer.py\", line 220, in function\n\n  File \"/home/b1az3ng/.venv/lib/python3.12/site-packages/keras/src/backend/tensorflow/trainer.py\", line 133, in multi_step_on_iterator\n\n  File \"/home/b1az3ng/.venv/lib/python3.12/site-packages/keras/src/backend/tensorflow/trainer.py\", line 114, in one_step_on_data\n\n  File \"/home/b1az3ng/.venv/lib/python3.12/site-packages/keras/src/backend/tensorflow/trainer.py\", line 58, in train_step\n\n  File \"/home/b1az3ng/.venv/lib/python3.12/site-packages/keras/src/utils/traceback_utils.py\", line 117, in error_handler\n\n  File \"/home/b1az3ng/.venv/lib/python3.12/site-packages/keras/src/layers/layer.py\", line 936, in __call__\n\n  File \"/home/b1az3ng/.venv/lib/python3.12/site-packages/keras/src/utils/traceback_utils.py\", line 117, in error_handler\n\n  File \"/home/b1az3ng/.venv/lib/python3.12/site-packages/keras/src/ops/operation.py\", line 58, in __call__\n\n  File \"/home/b1az3ng/.venv/lib/python3.12/site-packages/keras/src/utils/traceback_utils.py\", line 156, in error_handler\n\n  File \"/home/b1az3ng/.venv/lib/python3.12/site-packages/keras/src/models/functional.py\", line 183, in call\n\n  File \"/home/b1az3ng/.venv/lib/python3.12/site-packages/keras/src/ops/function.py\", line 177, in _run_through_graph\n\n  File \"/home/b1az3ng/.venv/lib/python3.12/site-packages/keras/src/models/functional.py\", line 648, in call\n\n  File \"/home/b1az3ng/.venv/lib/python3.12/site-packages/keras/src/utils/traceback_utils.py\", line 117, in error_handler\n\n  File \"/home/b1az3ng/.venv/lib/python3.12/site-packages/keras/src/layers/layer.py\", line 936, in __call__\n\n  File \"/home/b1az3ng/.venv/lib/python3.12/site-packages/keras/src/utils/traceback_utils.py\", line 117, in error_handler\n\n  File \"/home/b1az3ng/.venv/lib/python3.12/site-packages/keras/src/ops/operation.py\", line 58, in __call__\n\n  File \"/home/b1az3ng/.venv/lib/python3.12/site-packages/keras/src/utils/traceback_utils.py\", line 156, in error_handler\n\n  File \"/home/b1az3ng/.venv/lib/python3.12/site-packages/keras/src/layers/core/lambda_layer.py\", line 120, in call\n\n  File \"/tmp/ipykernel_22518/2900220204.py\", line 4, in ctc_loss_fn\n\n  File \"/home/b1az3ng/.venv/lib/python3.12/site-packages/keras/src/legacy/backend.py\", line 666, in ctc_batch_cost\n\n2 root error(s) found.\n  (0) INVALID_ARGUMENT:  Not enough time for target transition sequence (required: 53, available: 49)14You can turn this error into a warning by using the flag ignore_longer_outputs_than_inputs\n\t [[{{node ctc_model_with_loss_1/ctc_loss_1/CTCLoss}}]]\n\t [[StatefulPartitionedCall/ctc_model_with_loss_1/ctc_loss_1/CTCLoss/_78]]\n  (1) INVALID_ARGUMENT:  Not enough time for target transition sequence (required: 53, available: 49)14You can turn this error into a warning by using the flag ignore_longer_outputs_than_inputs\n\t [[{{node ctc_model_with_loss_1/ctc_loss_1/CTCLoss}}]]\n0 successful operations.\n0 derived errors ignored. [Op:__inference_multi_step_on_iterator_20880]"
     ]
    }
   ],
   "source": [
    "training_model.fit(dataset, epochs=20)\n"
   ]
  },
  {
   "cell_type": "code",
   "execution_count": 78,
   "id": "44785a8e",
   "metadata": {},
   "outputs": [
    {
     "name": "stderr",
     "output_type": "stream",
     "text": [
      "/home/b1az3ng/.venv/lib/python3.12/site-packages/keras/src/saving/serialization_lib.py:390: UserWarning: The object being serialized includes a `lambda`. This is unsafe. In order to reload the object, you will have to pass `safe_mode=False` to the loading function. Please avoid using `lambda` in the future, and use named Python functions instead. This is the `lambda` being serialized: training_model.compile(optimizer=tf.keras.optimizers.Adam(),loss={\"ctc_loss\": lambda y_true, y_pred: y_pred})\n",
      "\n",
      "  return {key: serialize_keras_object(value) for key, value in obj.items()}\n"
     ]
    }
   ],
   "source": [
    "training_model.save(\"RCNN.keras\")"
   ]
  },
  {
   "cell_type": "code",
   "execution_count": null,
   "id": "f2536dfa",
   "metadata": {},
   "outputs": [],
   "source": []
  },
  {
   "cell_type": "code",
   "execution_count": null,
   "id": "716ef045",
   "metadata": {},
   "outputs": [
    {
     "ename": "NameError",
     "evalue": "name 'model' is not defined",
     "output_type": "error",
     "traceback": [
      "\u001b[31m---------------------------------------------------------------------------\u001b[39m",
      "\u001b[31mNameError\u001b[39m                                 Traceback (most recent call last)",
      "\u001b[36mCell\u001b[39m\u001b[36m \u001b[39m\u001b[32mIn[1]\u001b[39m\u001b[32m, line 1\u001b[39m\n\u001b[32m----> \u001b[39m\u001b[32m1\u001b[39m \u001b[43mmodel\u001b[49m.save(\u001b[33m\"\u001b[39m\u001b[33mrcnn-model.keras\u001b[39m\u001b[33m\"\u001b[39m)\n",
      "\u001b[31mNameError\u001b[39m: name 'model' is not defined"
     ]
    }
   ],
   "source": []
  },
  {
   "cell_type": "markdown",
   "id": "f7c4a76c",
   "metadata": {},
   "source": [
    "a"
   ]
  }
 ],
 "metadata": {
  "kernelspec": {
   "display_name": "Python (ml)",
   "language": "python",
   "name": "ml"
  },
  "language_info": {
   "codemirror_mode": {
    "name": "ipython",
    "version": 3
   },
   "file_extension": ".py",
   "mimetype": "text/x-python",
   "name": "python",
   "nbconvert_exporter": "python",
   "pygments_lexer": "ipython3",
   "version": "3.12.3"
  }
 },
 "nbformat": 4,
 "nbformat_minor": 5
}

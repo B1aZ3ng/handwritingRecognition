{
 "cells": [
  {
   "cell_type": "code",
   "execution_count": null,
   "metadata": {},
   "outputs": [
    {
     "name": "stderr",
     "output_type": "stream",
     "text": [
      "2025-02-12 22:18:47.420949: I tensorflow/core/util/port.cc:153] oneDNN custom operations are on. You may see slightly different numerical results due to floating-point round-off errors from different computation orders. To turn them off, set the environment variable `TF_ENABLE_ONEDNN_OPTS=0`.\n",
      "2025-02-12 22:18:47.430332: E external/local_xla/xla/stream_executor/cuda/cuda_fft.cc:477] Unable to register cuFFT factory: Attempting to register factory for plugin cuFFT when one has already been registered\n",
      "WARNING: All log messages before absl::InitializeLog() is called are written to STDERR\n",
      "E0000 00:00:1739369927.441072   27540 cuda_dnn.cc:8310] Unable to register cuDNN factory: Attempting to register factory for plugin cuDNN when one has already been registered\n",
      "E0000 00:00:1739369927.443930   27540 cuda_blas.cc:1418] Unable to register cuBLAS factory: Attempting to register factory for plugin cuBLAS when one has already been registered\n",
      "2025-02-12 22:18:47.455315: I tensorflow/core/platform/cpu_feature_guard.cc:210] This TensorFlow binary is optimized to use available CPU instructions in performance-critical operations.\n",
      "To enable the following instructions: AVX2 AVX512F AVX512_VNNI AVX512_BF16 FMA, in other operations, rebuild TensorFlow with the appropriate compiler flags.\n"
     ]
    }
   ],
   "source": [
    "#imports\n",
    "import os\n",
    "import shutil\n",
    "import tensorflow as tf\n",
    "import numpy as np\n",
    "from PIL import Image\n",
    "import cv2\n",
    "import random\n",
    "import Augmentor\n",
    "from tensorflow.keras.preprocessing.image import ImageDataGenerator\n",
    "from tensorflow.keras.utils import array_to_img, img_to_array, load_img\n"
   ]
  },
  {
   "cell_type": "code",
   "execution_count": null,
   "metadata": {},
   "outputs": [],
   "source": [
    "#import directory\n",
    "directory = open(dataPath + \"ascii/words.txt\",\"r\").read().splitlines()\n",
    "len(directory)\n",
    "directory = directory[18:] #first 18 lines are instructions\n"
   ]
  },
  {
   "cell_type": "markdown",
   "metadata": {},
   "source": []
  },
  {
   "cell_type": "code",
   "execution_count": null,
   "metadata": {},
   "outputs": [
    {
     "name": "stdout",
     "output_type": "stream",
     "text": [
      "115320\n"
     ]
    }
   ],
   "source": [
    "# import images\n",
    "#--- words.txt ---------------------------------------------------------------#\n",
    "#\n",
    "# iam database word information\n",
    "#\n",
    "# format: a01-000u-00-00 ok 154 1 408 768 27 51 AT A\n",
    "#\n",
    "#     a01-000u-00-00  -> word id for line 00 in form a01-000u\n",
    "#     ok              -> result of word segmentation\n",
    "#                            ok: word was correctly\n",
    "#                            er: segmentation of word can be bad\n",
    "#\n",
    "#     154             -> graylevel to binarize the line containing this word\n",
    "#     1               -> number of components for this word NOTE: dont think this exists idk why\n",
    "#     408 768 27 51   -> bounding box around this word in x,y,w,h format\n",
    "#     AT              -> the grammatical tag for this word, see the\n",
    "#                        file tagset.txt for an explanation\n",
    "#     A               -> the transcription for this word\n",
    "#\n",
    "class img:\n",
    "    def __init__ (this,data):\n",
    "        data = data.split(\" \")\n",
    "        this.d = data\n",
    "        this.id = data[0]\n",
    "        this.parts = data[0].split(\"-\")\n",
    "        a = this.parts\n",
    "        this.loc = a[0]+\"/\"+a[0]+\"-\"+a[1]+\"/\"+data[0]\n",
    "        this.path = dataPath + \"words/\" + this.loc\n",
    "        this.word = data[-1]\n",
    "    def augPath(this,s):\n",
    "        return dataPath + s + this.loc\n",
    "\n",
    "images = []\n",
    "for i in directory:\n",
    "    images.append(img(i))\n",
    "print(len(images))\n",
    "\n",
    "\n",
    "\n"
   ]
  },
  {
   "cell_type": "code",
   "execution_count": null,
   "metadata": {},
   "outputs": [
    {
     "name": "stderr",
     "output_type": "stream",
     "text": [
      "[ WARN:0@0.617] global loadsave.cpp:848 imwrite_ Unsupported depth image for selected encoder is fallbacked to CV_8U.\n"
     ]
    },
    {
     "name": "stdout",
     "output_type": "stream",
     "text": [
      "a01/a01-117/a01-117-05-02\n",
      "r06/r06-022/r06-022-03-05\n"
     ]
    }
   ],
   "source": [
    "#To add a pixel of border around each picture, because zooming out uses the edge pixels\n",
    "def addBorder (path):\n",
    "    t = cv2.imread(path+\".png\")\n",
    "    pic = np.array(t)\n",
    "    x,y,z = pic.shape #ALSO change colour here if needed\n",
    "\n",
    "    column = np.array([[[255,255,255]] for i in range (x)]) # to add 1 pixel of white around the picture, because the picture is cropped to exactly where the side contains black and zoom function does not take that well\n",
    "    row = np.array([[[255,255,255] for i in range (y+2)]])\n",
    "    pic = np.concatenate([column,pic,column], axis=1)\n",
    "    pic = np.concatenate([row,pic,row],axis=0)\n",
    "    cv2.imwrite(path+\".jpg\",pic)\n",
    "    return pic\n",
    "\n",
    "for img in images:\n",
    "    try:\n",
    "        addBorder(img.path)\n",
    "    except:\n",
    "        print(img.loc)"
   ]
  },
  {
   "cell_type": "code",
   "execution_count": null,
   "metadata": {},
   "outputs": [],
   "source": [
    "#create Directory for augmented Images\n",
    "def createFile (path):\n",
    "    if not os.path.exists(path):\n",
    "        os.makedirs(path)\n",
    "for img in images:\n",
    "    createFile(img.augPath(\"augmentedWords/\"))"
   ]
  },
  {
   "cell_type": "code",
   "execution_count": null,
   "metadata": {},
   "outputs": [],
   "source": [
    "#define augment function\n",
    "#https://www.geeksforgeeks.org/python-data-augmentation/\n",
    "def augment1 (path,savePath):\n",
    "    # Converting the input sample image to an array\n",
    "    # Reshaping the input image\n",
    "    datagen = ImageDataGenerator(zoom_range = [1,2.5],rotation_range = 15, horizontal_flip=True, vertical_flip=True)\n",
    "   \n",
    "    # Loading a sample image \n",
    "    img = load_img(path) \n",
    "    # Converting the input sample image to an array\n",
    "    x = img_to_array(img)\n",
    "    # Reshaping the input image\n",
    "    x = x.reshape((1, ) + x.shape) \n",
    "    \n",
    "    # Generating and saving 5 augmented samples \n",
    "    # using the above defined parameters. \n",
    "    i = 0\n",
    "    for batch in datagen.flow(x, batch_size = 1,\n",
    "                            save_to_dir =savePath, \n",
    "                            save_prefix ='image', save_format ='jpeg'):\n",
    "        i += 1\n",
    "        if i >= 10:\n",
    "            break\n",
    "def augment2 (path,savePath):\n",
    "    # Converting the input sample image to an array\n",
    "    # Reshaping the input image\n",
    "    datagen = ImageDataGenerator(zoom_range = [1,2],rotation_range = 30,width_shift_range=0.1,height_shift_range=0.1)\n",
    "   \n",
    "    # Loading a sample image \n",
    "    img = load_img(path) \n",
    "    # Converting the input sample image to an array\n",
    "    x = img_to_array(img)\n",
    "    # Reshaping the input image\n",
    "    x = x.reshape((1, ) + x.shape) \n",
    "    \n",
    "    # Generating and saving 5 augmented samples \n",
    "    # using the above defined parameters. \n",
    "    i = 0\n",
    "    for batch in datagen.flow(x, batch_size = 1,\n",
    "                            save_to_dir =savePath, \n",
    "                            save_prefix ='image', save_format ='jpeg'):\n",
    "        i += 1\n",
    "        if i >= 10:\n",
    "            break"
   ]
  },
  {
   "cell_type": "code",
   "execution_count": null,
   "metadata": {},
   "outputs": [
    {
     "name": "stdout",
     "output_type": "stream",
     "text": [
      "a01\n",
      "a01/a01-117/a01-117-05-02\n",
      "a02\n",
      "a03\n",
      "a04\n",
      "a05\n",
      "a06\n",
      "b01\n",
      "b02\n",
      "b03\n",
      "b04\n",
      "b05\n",
      "b06\n",
      "c01\n",
      "c02\n",
      "c03\n",
      "c04\n",
      "c06\n",
      "d01\n",
      "d03\n",
      "d04\n",
      "d05\n",
      "d06\n",
      "d07\n",
      "e01\n",
      "e02\n",
      "e04\n",
      "e06\n",
      "e07\n",
      "f01\n",
      "f02\n",
      "f03\n",
      "f04\n",
      "f07\n",
      "g01\n",
      "g02\n",
      "g03\n",
      "g04\n",
      "g05\n",
      "g06\n",
      "g07\n",
      "h01\n",
      "h02\n",
      "h04\n",
      "h05\n",
      "h06\n",
      "h07\n",
      "j01\n",
      "j04\n",
      "j06\n",
      "j07\n",
      "k01\n",
      "k02\n",
      "k03\n",
      "k04\n",
      "k07\n",
      "l01\n",
      "l03\n",
      "l04\n",
      "l07\n",
      "m01\n",
      "m02\n",
      "m03\n",
      "m04\n",
      "m06\n",
      "n01\n",
      "n02\n",
      "n03\n",
      "n04\n",
      "n06\n",
      "p01\n",
      "p02\n",
      "p03\n",
      "p06\n",
      "r02\n",
      "r03\n",
      "r06\n",
      "r06/r06-022/r06-022-03-05\n"
     ]
    }
   ],
   "source": [
    "#execute augment function, will take long time\n",
    "#change\n",
    "last = \"\"\n",
    "for img in images:\n",
    "    try:\n",
    "        if img.parts[0] != last:\n",
    "            last = img.parts[0]\n",
    "            print(last)\n",
    "        if len(img.word) > 1:\n",
    "            augment1(img.path+\".jpg\",img.augPath(\"augmentedWords/\"))\n",
    "        else:\n",
    "            augment2(img.path+\".jpg\",img.augPath(\"augmentedWords/\"))\n",
    "    except:\n",
    "        print(img.loc)"
   ]
  },
  {
   "cell_type": "code",
   "execution_count": null,
   "metadata": {},
   "outputs": [],
   "source": []
  },
  {
   "cell_type": "code",
   "execution_count": null,
   "metadata": {},
   "outputs": [
    {
     "name": "stdout",
     "output_type": "stream",
     "text": [
      "115320\n"
     ]
    }
   ],
   "source": [
    "print(len(images))"
   ]
  },
  {
   "cell_type": "code",
   "execution_count": null,
   "metadata": {},
   "outputs": [
    {
     "ename": "NameError",
     "evalue": "name 'createFile' is not defined",
     "output_type": "error",
     "traceback": [
      "\u001b[0;31m---------------------------------------------------------------------------\u001b[0m\n",
      "\u001b[0;31mNameError\u001b[0m                                 Traceback (most recent call last)\n",
      "Cell \u001b[0;32mIn[5], line 2\u001b[0m\n",
      "\u001b[1;32m      1\u001b[0m \u001b[38;5;28;01mfor\u001b[39;00m img \u001b[38;5;129;01min\u001b[39;00m images:\n",
      "\u001b[0;32m----> 2\u001b[0m     \u001b[43mcreateFile\u001b[49m(img\u001b[38;5;241m.\u001b[39maugPath(\u001b[38;5;124m\"\u001b[39m\u001b[38;5;124mfinal_aug_words/\u001b[39m\u001b[38;5;124m\"\u001b[39m))\n",
      "\n",
      "\u001b[0;31mNameError\u001b[0m: name 'createFile' is not defined"
     ]
    }
   ],
   "source": [
    "\n",
    "for img in images:\n",
    "    createFile(img.augPath(\"final_aug_words/\"))"
   ]
  },
  {
   "cell_type": "code",
   "execution_count": null,
   "metadata": {},
   "outputs": [
    {
     "name": "stderr",
     "output_type": "stream",
     "text": [
      "I0000 00:00:1739369999.075536   27540 gpu_device.cc:2022] Created device /job:localhost/replica:0/task:0/device:GPU:0 with 9533 MB memory:  -> device: 0, name: NVIDIA GeForce GTX 1080 Ti, pci bus id: 0000:01:00.0, compute capability: 6.1\n"
     ]
    }
   ],
   "source": [
    "def resize(image_path,size,out_path): #resize to size and add black padding around unknown\n",
    "    image = tf.io.read_file(image_path)\n",
    "    image = tf.image.decode_png(image, 1)\n",
    "    image = tf.image.convert_image_dtype(image, tf.float32)\n",
    "    image = tf.image.resize_with_pad(image, size[0],size[1])\n",
    "    tf.keras.utils.save_img(out_path, image, file_format=\"jpeg\")\n",
    "last = \"\"\n",
    "for img in images:\n",
    "    try:\n",
    "        if img.parts[0] != last:\n",
    "                last = img.parts[0]\n",
    "        files = os.listdir(img.augPath(\"augmentedWords/\"))\n",
    "        endpath = img.augPath(\"final_aug_words/\")\n",
    "        \n",
    "        for augImg in files:\n",
    "            resize (img.augPath(\"augmentedWords/\")+\"/\"+augImg,(224,224),endpath+\"/\"+augImg)\n",
    "    except:\n",
    "        print (img.loc)\n",
    "#takes 46 mins"
   ]
  },
  {
   "cell_type": "code",
   "execution_count": null,
   "metadata": {},
   "outputs": [],
   "source": []
  }
 ],
 "metadata": {
  "language_info": {
   "name": "python"
  }
 },
 "nbformat": 4,
 "nbformat_minor": 2
}
